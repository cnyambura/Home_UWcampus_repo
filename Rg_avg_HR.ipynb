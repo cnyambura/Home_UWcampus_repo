{
 "cells": [
  {
   "cell_type": "code",
   "execution_count": 1,
   "id": "f3dfc793-8ab7-436e-9b35-b76b32c703f8",
   "metadata": {},
   "outputs": [],
   "source": [
    "#import the necessary modules \n",
    "%matplotlib inline \n",
    "import numpy as np \n",
    "import matplotlib.pyplot as plt \n",
    "import pandas as pd \n",
    "import scipy\n",
    "import sklearn\n",
    "import itertools \n",
    "from itertools import cycle \n",
    "import os.path as op\n",
    "import timeit \n",
    "import json\n",
    "import math"
   ]
  },
  {
   "cell_type": "code",
   "execution_count": 2,
   "id": "a9e0d100-b092-44ad-9990-7fa3082d084d",
   "metadata": {},
   "outputs": [],
   "source": [
    "# Import MDAnalysis\n",
    "import MDAnalysis as mda\n",
    "#from MDAnalysis.analysis import polymer, distances, rdf\n",
    "import MDAnalysis.analysis.distances as maa_dist\n",
    "import matplotlib.font_manager as font_manager"
   ]
  },
  {
   "cell_type": "code",
   "execution_count": 3,
   "id": "14426913-0fa2-4c53-9d5f-addef11f1d3b",
   "metadata": {},
   "outputs": [],
   "source": [
    "def read_xvg(file_name):\n",
    "    with open(file_name) as f: \n",
    "        f_lines = []\n",
    "        names = []\n",
    "        for ln in f:\n",
    "            if ln.startswith(\"#\"):\n",
    "                pass\n",
    "            elif ln.startswith(\"@ s\"):\n",
    "                name_line = ln[0:]\n",
    "                fix_line = name_line.split('\"')[1::2]\n",
    "                names.append(fix_line[0])\n",
    "            elif ln.startswith(\"@\"):\n",
    "                pass\n",
    "            else:\n",
    "                f_lines.append(ln[0:])\n",
    "                \n",
    "    count = len(open(file_name).readlines())\n",
    "    skip_rows = count-len(f_lines)\n",
    "\n",
    "    df = pd.read_csv(file_name, delim_whitespace=True, names=names, skiprows=skip_rows)\n",
    "    return df"
   ]
  },
  {
   "cell_type": "markdown",
   "id": "03e04829-c0b8-4481-839a-1a7fa6bda361",
   "metadata": {},
   "source": [
    "### Harmonic Restaint, k = 90, Rg set at 2 nm "
   ]
  },
  {
   "cell_type": "code",
   "execution_count": 5,
   "id": "7d6dd3e3-d567-4688-aea4-723453296d7c",
   "metadata": {
    "tags": []
   },
   "outputs": [],
   "source": [
    "rg_pp = read_xvg('ID2S_poly_sys/Controls/oligs_in_water/High_rg/rgPP_100ns.xvg')\n",
    "rg_peg = read_xvg('ID2S_poly_sys/Controls/oligs_in_water/High_rg/rg_pegN33_k90.xvg')\n",
    "rg_plga = read_xvg('ID2S_poly_sys/Controls/oligs_in_water/High_rg/rgPLGA_100ns.xvg')"
   ]
  },
  {
   "cell_type": "markdown",
   "id": "316cb28f-83ac-4d5b-8478-16ed305759e0",
   "metadata": {},
   "source": [
    "#### PLGA-PEG Rg restraint avg"
   ]
  },
  {
   "cell_type": "code",
   "execution_count": 13,
   "id": "80bd6c2e-783d-4057-a2e4-dae2ff377fcb",
   "metadata": {},
   "outputs": [
    {
     "data": {
      "text/plain": [
       "1.7103792041591683"
      ]
     },
     "execution_count": 13,
     "metadata": {},
     "output_type": "execute_result"
    }
   ],
   "source": [
    "np.average(rg_pp['Rg'])"
   ]
  },
  {
   "cell_type": "code",
   "execution_count": 14,
   "id": "24819ece-a0e2-40a5-bd90-6758001bea39",
   "metadata": {},
   "outputs": [
    {
     "data": {
      "text/plain": [
       "0.15585601364339072"
      ]
     },
     "execution_count": 14,
     "metadata": {},
     "output_type": "execute_result"
    }
   ],
   "source": [
    "np.std(rg_pp['Rg'])"
   ]
  },
  {
   "cell_type": "markdown",
   "id": "c8564fc2-48e8-41aa-adb2-1540700db182",
   "metadata": {},
   "source": [
    "#### PLGA Rg restraint avg"
   ]
  },
  {
   "cell_type": "code",
   "execution_count": 16,
   "id": "115ab1d2-00dd-40a7-9577-2a2c89f299a7",
   "metadata": {},
   "outputs": [
    {
     "data": {
      "text/plain": [
       "1.775212099580084"
      ]
     },
     "execution_count": 16,
     "metadata": {},
     "output_type": "execute_result"
    }
   ],
   "source": [
    "np.average(rg_plga['Rg'])"
   ]
  },
  {
   "cell_type": "code",
   "execution_count": 17,
   "id": "bacd8535-319e-4970-aa29-8bad63474f8b",
   "metadata": {},
   "outputs": [
    {
     "data": {
      "text/plain": [
       "0.16622020211283842"
      ]
     },
     "execution_count": 17,
     "metadata": {},
     "output_type": "execute_result"
    }
   ],
   "source": [
    "np.std(rg_plga['Rg'])"
   ]
  },
  {
   "cell_type": "markdown",
   "id": "be18ca03-bd59-4c97-ba2d-dee073a76545",
   "metadata": {},
   "source": [
    "#### PEG Rg restraint avg"
   ]
  },
  {
   "cell_type": "code",
   "execution_count": 18,
   "id": "32d3dade-1197-409a-bf77-90c57294591d",
   "metadata": {},
   "outputs": [
    {
     "data": {
      "text/plain": [
       "1.7707670605878825"
      ]
     },
     "execution_count": 18,
     "metadata": {},
     "output_type": "execute_result"
    }
   ],
   "source": [
    "np.average(rg_peg['Rg'])"
   ]
  },
  {
   "cell_type": "code",
   "execution_count": 19,
   "id": "21d7bc99-704c-4232-a8bb-dbe8adfc7497",
   "metadata": {},
   "outputs": [
    {
     "data": {
      "text/plain": [
       "0.147720004637842"
      ]
     },
     "execution_count": 19,
     "metadata": {},
     "output_type": "execute_result"
    }
   ],
   "source": [
    "np.std(rg_peg['Rg'])"
   ]
  },
  {
   "cell_type": "code",
   "execution_count": null,
   "id": "39e89178-b5cf-488c-b6a7-c4a330452918",
   "metadata": {},
   "outputs": [],
   "source": []
  },
  {
   "cell_type": "code",
   "execution_count": null,
   "id": "2762ebda-a822-4843-9dac-563ddec96776",
   "metadata": {},
   "outputs": [],
   "source": []
  },
  {
   "cell_type": "markdown",
   "id": "3c741005-5915-4cef-a41a-ffaec1f757e3",
   "metadata": {},
   "source": [
    "### Harmonic Restaint, k = 100, Rg set at 2 nm "
   ]
  },
  {
   "cell_type": "code",
   "execution_count": 34,
   "id": "f2003a6c-c5de-4373-b948-0e7bfe22b6f1",
   "metadata": {},
   "outputs": [],
   "source": [
    "rg_ppk100 = read_xvg('ID2S_poly_sys/Controls/oligs_in_water/High_rg/rgPPn25_k100.xvg')\n",
    "rg_pegk100 = read_xvg('ID2S_poly_sys/Controls/oligs_in_water/High_rg/rg_pegn33_k100.xvg')\n",
    "rg_plgak100 = read_xvg('ID2S_poly_sys/Controls/oligs_in_water/High_rg/rg_plgan20_k100.xvg')"
   ]
  },
  {
   "cell_type": "markdown",
   "id": "26a80e57-d8d2-4559-b7af-4c5efbc310dd",
   "metadata": {},
   "source": [
    "#### PLGA-PEG Rg restraint avg"
   ]
  },
  {
   "cell_type": "code",
   "execution_count": 35,
   "id": "316d77eb-ee39-409d-b82d-21263df3a157",
   "metadata": {},
   "outputs": [
    {
     "data": {
      "text/plain": [
       "1.8956934333133375"
      ]
     },
     "execution_count": 35,
     "metadata": {},
     "output_type": "execute_result"
    }
   ],
   "source": [
    "np.average(rg_ppk100['Rg'])"
   ]
  },
  {
   "cell_type": "code",
   "execution_count": 36,
   "id": "c84d4052-6a89-43ab-a3c0-bfbbdce34fb6",
   "metadata": {},
   "outputs": [
    {
     "data": {
      "text/plain": [
       "0.14328217490651377"
      ]
     },
     "execution_count": 36,
     "metadata": {},
     "output_type": "execute_result"
    }
   ],
   "source": [
    "np.std(rg_ppk100['Rg'])"
   ]
  },
  {
   "cell_type": "markdown",
   "id": "9dc78d7c-3fd4-4466-89ee-49692eef9b5b",
   "metadata": {},
   "source": [
    "#### PLGA Rg restraint avg"
   ]
  },
  {
   "cell_type": "code",
   "execution_count": 37,
   "id": "4d91cfe6-7f46-4015-8758-e05bbce1b6af",
   "metadata": {},
   "outputs": [
    {
     "data": {
      "text/plain": [
       "1.994409472105579"
      ]
     },
     "execution_count": 37,
     "metadata": {},
     "output_type": "execute_result"
    }
   ],
   "source": [
    "np.average(rg_plgak100['Rg'])"
   ]
  },
  {
   "cell_type": "code",
   "execution_count": 38,
   "id": "5a91038a-2207-4d45-bbab-f7822b599673",
   "metadata": {},
   "outputs": [
    {
     "data": {
      "text/plain": [
       "0.15833470744711894"
      ]
     },
     "execution_count": 38,
     "metadata": {},
     "output_type": "execute_result"
    }
   ],
   "source": [
    "np.std(rg_plgak100['Rg'])"
   ]
  },
  {
   "cell_type": "markdown",
   "id": "f30181e0-8903-46cc-8530-3beb1726d067",
   "metadata": {},
   "source": [
    "#### PEG Rg restraint avg"
   ]
  },
  {
   "cell_type": "code",
   "execution_count": 39,
   "id": "b3b7afd4-8d8a-4bfc-97de-69a881c5c4e6",
   "metadata": {},
   "outputs": [
    {
     "data": {
      "text/plain": [
       "1.9266210437912417"
      ]
     },
     "execution_count": 39,
     "metadata": {},
     "output_type": "execute_result"
    }
   ],
   "source": [
    "np.average(rg_pegk100['Rg'])"
   ]
  },
  {
   "cell_type": "code",
   "execution_count": 40,
   "id": "73062ee5-a846-4fc9-b37b-4408ee85aea0",
   "metadata": {},
   "outputs": [
    {
     "data": {
      "text/plain": [
       "0.1366395916948913"
      ]
     },
     "execution_count": 40,
     "metadata": {},
     "output_type": "execute_result"
    }
   ],
   "source": [
    "np.std(rg_pegk100['Rg'])"
   ]
  },
  {
   "cell_type": "markdown",
   "id": "527cdb3f-ef0a-4671-89cd-26623566d5fe",
   "metadata": {
    "tags": []
   },
   "source": [
    "### Harmonic Restaint, k = 120, Rg set at 1.6 nm "
   ]
  },
  {
   "cell_type": "code",
   "execution_count": 20,
   "id": "3fcee501-ae27-44e5-a934-e10f7ebe7c60",
   "metadata": {},
   "outputs": [],
   "source": [
    "rg_PPmedRg = read_xvg('ID2S_poly_sys/Controls/oligs_in_water/Med_rg/rgPLGAPEG_50nsMedRg.xvg')\n",
    "rg_PEGmedRg = read_xvg('ID2S_poly_sys/Controls/oligs_in_water/Med_rg/rgPEG_50nsMedRg.xvg')\n",
    "rg_PLGAmedRg = read_xvg('ID2S_poly_sys/Controls/oligs_in_water/Med_rg/rgPLGA_50nsMedRg.xvg')"
   ]
  },
  {
   "cell_type": "markdown",
   "id": "d22ff1a0-ddc7-4625-91d1-27ae89b6f261",
   "metadata": {},
   "source": [
    "#### PLGA Rg restraint avg"
   ]
  },
  {
   "cell_type": "code",
   "execution_count": 21,
   "id": "76c938df-a7a4-49cf-96b7-8590a959cf02",
   "metadata": {},
   "outputs": [
    {
     "data": {
      "text/plain": [
       "1.475129176329468"
      ]
     },
     "execution_count": 21,
     "metadata": {},
     "output_type": "execute_result"
    }
   ],
   "source": [
    "np.average(rg_PLGAmedRg['Rg'])"
   ]
  },
  {
   "cell_type": "code",
   "execution_count": 22,
   "id": "66b1261f-2e2c-4f0b-951e-adf3102305bd",
   "metadata": {},
   "outputs": [
    {
     "data": {
      "text/plain": [
       "0.12897191337630567"
      ]
     },
     "execution_count": 22,
     "metadata": {},
     "output_type": "execute_result"
    }
   ],
   "source": [
    "np.std(rg_PLGAmedRg['Rg'])"
   ]
  },
  {
   "cell_type": "markdown",
   "id": "52ff06d7-f443-4bd1-887b-43d5da7fa5e8",
   "metadata": {},
   "source": [
    "#### PLGA-PEG Rg restraint avg"
   ]
  },
  {
   "cell_type": "code",
   "execution_count": 23,
   "id": "334e4fc5-3e59-4205-8ddc-2d424d543d4b",
   "metadata": {},
   "outputs": [
    {
     "data": {
      "text/plain": [
       "1.4410775889644143"
      ]
     },
     "execution_count": 23,
     "metadata": {},
     "output_type": "execute_result"
    }
   ],
   "source": [
    "np.average(rg_PPmedRg['Rg'])"
   ]
  },
  {
   "cell_type": "code",
   "execution_count": 24,
   "id": "40f4873c-62ed-457c-a07b-5320335c7aba",
   "metadata": {},
   "outputs": [
    {
     "data": {
      "text/plain": [
       "0.11597604439829327"
      ]
     },
     "execution_count": 24,
     "metadata": {},
     "output_type": "execute_result"
    }
   ],
   "source": [
    "np.std(rg_PPmedRg['Rg'])"
   ]
  },
  {
   "cell_type": "markdown",
   "id": "6da4744b-7624-49a2-8cef-0310088b3ef4",
   "metadata": {},
   "source": [
    "#### PEG Rg restraint avg"
   ]
  },
  {
   "cell_type": "code",
   "execution_count": 25,
   "id": "ba729366-41e8-4266-a0b4-f102336ced71",
   "metadata": {},
   "outputs": [
    {
     "data": {
      "text/plain": [
       "1.5492449940023991"
      ]
     },
     "execution_count": 25,
     "metadata": {},
     "output_type": "execute_result"
    }
   ],
   "source": [
    "np.average(rg_PEGmedRg['Rg'])"
   ]
  },
  {
   "cell_type": "code",
   "execution_count": 26,
   "id": "2e62d392-b87b-41ea-ac94-5fb3185cb883",
   "metadata": {},
   "outputs": [
    {
     "data": {
      "text/plain": [
       "0.12870915666309984"
      ]
     },
     "execution_count": 26,
     "metadata": {},
     "output_type": "execute_result"
    }
   ],
   "source": [
    "np.std(rg_PEGmedRg['Rg'])"
   ]
  },
  {
   "cell_type": "code",
   "execution_count": null,
   "id": "0883db45-4075-497c-b7a7-a8ed765b09af",
   "metadata": {},
   "outputs": [],
   "source": []
  },
  {
   "cell_type": "markdown",
   "id": "ff82cb1a-34ad-4cde-bdde-c6f317b572c0",
   "metadata": {
    "tags": []
   },
   "source": [
    "### Harmonic Restaint, k = 120, Rg set at 1.1 nm "
   ]
  },
  {
   "cell_type": "code",
   "execution_count": 27,
   "id": "413626ea-2e27-4607-b857-3619d27116eb",
   "metadata": {},
   "outputs": [],
   "source": [
    "rg_PPlowRg = read_xvg('ID2S_poly_sys/Controls/oligs_in_water/Low_rg/rgPPn25_lowRg.xvg')\n",
    "rg_PEGlowRg = read_xvg('ID2S_poly_sys/Controls/oligs_in_water/Low_rg/rgPEG_50nsLowRg.xvg')\n",
    "rg_PLGAlowRg = read_xvg('ID2S_poly_sys/Controls/oligs_in_water/Low_rg/rgPLGA_50nsLowRg.xvg')"
   ]
  },
  {
   "cell_type": "markdown",
   "id": "26fcfd71-c840-4620-ac5d-75248fd78b07",
   "metadata": {},
   "source": [
    "#### PLGA Rg restraint avg"
   ]
  },
  {
   "cell_type": "code",
   "execution_count": 28,
   "id": "3306e4d9-4ad6-489d-b04e-c6e5bd360338",
   "metadata": {},
   "outputs": [
    {
     "data": {
      "text/plain": [
       "1.0764337349060376"
      ]
     },
     "execution_count": 28,
     "metadata": {},
     "output_type": "execute_result"
    }
   ],
   "source": [
    "np.average(rg_PLGAlowRg['Rg'])"
   ]
  },
  {
   "cell_type": "code",
   "execution_count": 29,
   "id": "3c6fa577-c89a-4724-9c85-ef05d48cbefa",
   "metadata": {},
   "outputs": [
    {
     "data": {
      "text/plain": [
       "0.1236319244099354"
      ]
     },
     "execution_count": 29,
     "metadata": {},
     "output_type": "execute_result"
    }
   ],
   "source": [
    "np.std(rg_PLGAlowRg['Rg'])"
   ]
  },
  {
   "cell_type": "markdown",
   "id": "d952f1b7-8686-4d5a-bed9-fa8074122df8",
   "metadata": {},
   "source": [
    "#### PLGA-PEG Rg restraint avg"
   ]
  },
  {
   "cell_type": "code",
   "execution_count": 30,
   "id": "4f264163-7a81-44b6-a206-5f2c25e50bf1",
   "metadata": {},
   "outputs": [
    {
     "data": {
      "text/plain": [
       "1.076043223510596"
      ]
     },
     "execution_count": 30,
     "metadata": {},
     "output_type": "execute_result"
    }
   ],
   "source": [
    "np.average(rg_PPlowRg['Rg'])"
   ]
  },
  {
   "cell_type": "code",
   "execution_count": 31,
   "id": "97ff413c-e3e9-49e0-bb28-1c58bb000152",
   "metadata": {},
   "outputs": [
    {
     "data": {
      "text/plain": [
       "0.10985603697381487"
      ]
     },
     "execution_count": 31,
     "metadata": {},
     "output_type": "execute_result"
    }
   ],
   "source": [
    "np.std(rg_PPlowRg['Rg'])"
   ]
  },
  {
   "cell_type": "markdown",
   "id": "282c39df-2ff0-4f9a-af37-c9b639c4c88d",
   "metadata": {},
   "source": [
    "#### PEG Rg restraint avg"
   ]
  },
  {
   "cell_type": "code",
   "execution_count": 32,
   "id": "ead27c4a-d15b-4daa-a4c9-20895771f61a",
   "metadata": {},
   "outputs": [
    {
     "data": {
      "text/plain": [
       "1.1145826389444222"
      ]
     },
     "execution_count": 32,
     "metadata": {},
     "output_type": "execute_result"
    }
   ],
   "source": [
    "np.average(rg_PEGlowRg['Rg'])"
   ]
  },
  {
   "cell_type": "code",
   "execution_count": 33,
   "id": "7672712b-4950-4033-bb08-7d3e59de7d45",
   "metadata": {},
   "outputs": [
    {
     "data": {
      "text/plain": [
       "0.1367534377773298"
      ]
     },
     "execution_count": 33,
     "metadata": {},
     "output_type": "execute_result"
    }
   ],
   "source": [
    "np.std(rg_PEGlowRg['Rg'])"
   ]
  },
  {
   "cell_type": "code",
   "execution_count": null,
   "id": "79fa6e0e-7e8a-49fe-9dac-31ba09d4a1c8",
   "metadata": {},
   "outputs": [],
   "source": []
  }
 ],
 "metadata": {
  "kernelspec": {
   "display_name": "Python 3 (ipykernel)",
   "language": "python",
   "name": "python3"
  },
  "language_info": {
   "codemirror_mode": {
    "name": "ipython",
    "version": 3
   },
   "file_extension": ".py",
   "mimetype": "text/x-python",
   "name": "python",
   "nbconvert_exporter": "python",
   "pygments_lexer": "ipython3",
   "version": "3.9.7"
  }
 },
 "nbformat": 4,
 "nbformat_minor": 5
}
