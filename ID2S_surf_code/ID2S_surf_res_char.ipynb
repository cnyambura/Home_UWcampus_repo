{
 "cells": [
  {
   "cell_type": "code",
   "execution_count": 1,
   "metadata": {},
   "outputs": [],
   "source": [
    "#import the necessary modules \n",
    "import numpy as np \n",
    "import math\n",
    "import matplotlib.pylab as plt \n",
    "import pandas as pd \n",
    "import scipy\n",
    "import sklearn\n",
    "import itertools as it\n",
    "from itertools import cycle \n",
    "import os.path as op\n",
    "import timeit \n",
    "import json\n",
    "#from matplotlib import animation\n",
    "#import matplotlib.font_manager as font_manager\n",
    "%matplotlib inline\n",
    "# These imports are for creating the percent occupancy heat map \n",
    "#import plotly\n",
    "#import plotly.plotly as py\n",
    "#import plotly.graph_objs as go"
   ]
  },
  {
   "cell_type": "markdown",
   "metadata": {},
   "source": [
    "#### Import MDAnalysis"
   ]
  },
  {
   "cell_type": "code",
   "execution_count": 2,
   "metadata": {},
   "outputs": [],
   "source": [
    "# Import MDAnalysis\n",
    "import MDAnalysis as mda\n",
    "import statsmodels as stats\n",
    "from MDAnalysis.analysis import distances"
   ]
  },
  {
   "cell_type": "code",
   "execution_count": 3,
   "metadata": {},
   "outputs": [],
   "source": [
    "#Units of Angstroms \n",
    "dmax = 4.0"
   ]
  },
  {
   "cell_type": "code",
   "execution_count": 4,
   "metadata": {},
   "outputs": [],
   "source": [
    "#exp_bsa_atoms = np.any(dij_tri <= dmax, axis=1)\n",
    "\n",
    "# Boolean arrays must be of the same shape as the initial dimensions of the array being indexed.\n",
    "# In the most straightforward case, the boolean array has the same shape\n",
    "# Unlike in the case of integer index arrays, in the boolean case,\n",
    "# the result is a 1-D array containing all the elements in the indexed array corresponding\n",
    "#       to all the true elements in the boolean array.\n",
    "\n",
    "#bres_wit_dmax = prot[exp_bsa_atoms].residues"
   ]
  },
  {
   "cell_type": "code",
   "execution_count": 5,
   "metadata": {},
   "outputs": [],
   "source": [
    "from prot_polymer_analysis import (get_protresd_list,aa_frmcount, AA_list_org,frac_cont)\n",
    "from secOrd_surf_prot import solv_vec_protsurf"
   ]
  },
  {
   "cell_type": "markdown",
   "metadata": {},
   "source": [
    "### Iduronate-2-sulfatase VMD SASA calculation (1st order surface AA characterization)"
   ]
  },
  {
   "cell_type": "code",
   "execution_count": 6,
   "metadata": {},
   "outputs": [
    {
     "data": {
      "text/html": [
       "<div>\n",
       "<style scoped>\n",
       "    .dataframe tbody tr th:only-of-type {\n",
       "        vertical-align: middle;\n",
       "    }\n",
       "\n",
       "    .dataframe tbody tr th {\n",
       "        vertical-align: top;\n",
       "    }\n",
       "\n",
       "    .dataframe thead th {\n",
       "        text-align: right;\n",
       "    }\n",
       "</style>\n",
       "<table border=\"1\" class=\"dataframe\">\n",
       "  <thead>\n",
       "    <tr style=\"text-align: right;\">\n",
       "      <th></th>\n",
       "      <th>res_label</th>\n",
       "      <th>res_no</th>\n",
       "      <th>sasa_label</th>\n",
       "      <th>sasa_ID2S</th>\n",
       "    </tr>\n",
       "  </thead>\n",
       "  <tbody>\n",
       "    <tr>\n",
       "      <th>0</th>\n",
       "      <td>residue:</td>\n",
       "      <td>100</td>\n",
       "      <td>sasa:</td>\n",
       "      <td>0.214292</td>\n",
       "    </tr>\n",
       "    <tr>\n",
       "      <th>1</th>\n",
       "      <td>residue:</td>\n",
       "      <td>101</td>\n",
       "      <td>sasa:</td>\n",
       "      <td>71.901329</td>\n",
       "    </tr>\n",
       "    <tr>\n",
       "      <th>2</th>\n",
       "      <td>residue:</td>\n",
       "      <td>102</td>\n",
       "      <td>sasa:</td>\n",
       "      <td>0.868588</td>\n",
       "    </tr>\n",
       "    <tr>\n",
       "      <th>3</th>\n",
       "      <td>residue:</td>\n",
       "      <td>103</td>\n",
       "      <td>sasa:</td>\n",
       "      <td>5.861117</td>\n",
       "    </tr>\n",
       "    <tr>\n",
       "      <th>4</th>\n",
       "      <td>residue:</td>\n",
       "      <td>104</td>\n",
       "      <td>sasa:</td>\n",
       "      <td>18.886673</td>\n",
       "    </tr>\n",
       "    <tr>\n",
       "      <th>...</th>\n",
       "      <td>...</td>\n",
       "      <td>...</td>\n",
       "      <td>...</td>\n",
       "      <td>...</td>\n",
       "    </tr>\n",
       "    <tr>\n",
       "      <th>502</th>\n",
       "      <td>residue:</td>\n",
       "      <td>95</td>\n",
       "      <td>sasa:</td>\n",
       "      <td>0.289529</td>\n",
       "    </tr>\n",
       "    <tr>\n",
       "      <th>503</th>\n",
       "      <td>residue:</td>\n",
       "      <td>96</td>\n",
       "      <td>sasa:</td>\n",
       "      <td>48.685890</td>\n",
       "    </tr>\n",
       "    <tr>\n",
       "      <th>504</th>\n",
       "      <td>residue:</td>\n",
       "      <td>97</td>\n",
       "      <td>sasa:</td>\n",
       "      <td>1.302881</td>\n",
       "    </tr>\n",
       "    <tr>\n",
       "      <th>505</th>\n",
       "      <td>residue:</td>\n",
       "      <td>98</td>\n",
       "      <td>sasa:</td>\n",
       "      <td>59.119953</td>\n",
       "    </tr>\n",
       "    <tr>\n",
       "      <th>506</th>\n",
       "      <td>residue:</td>\n",
       "      <td>99</td>\n",
       "      <td>sasa:</td>\n",
       "      <td>10.071715</td>\n",
       "    </tr>\n",
       "  </tbody>\n",
       "</table>\n",
       "<p>507 rows × 4 columns</p>\n",
       "</div>"
      ],
      "text/plain": [
       "    res_label  res_no sasa_label  sasa_ID2S\n",
       "0    residue:     100      sasa:   0.214292\n",
       "1    residue:     101      sasa:  71.901329\n",
       "2    residue:     102      sasa:   0.868588\n",
       "3    residue:     103      sasa:   5.861117\n",
       "4    residue:     104      sasa:  18.886673\n",
       "..        ...     ...        ...        ...\n",
       "502  residue:      95      sasa:   0.289529\n",
       "503  residue:      96      sasa:  48.685890\n",
       "504  residue:      97      sasa:   1.302881\n",
       "505  residue:      98      sasa:  59.119953\n",
       "506  residue:      99      sasa:  10.071715\n",
       "\n",
       "[507 rows x 4 columns]"
      ]
     },
     "execution_count": 6,
     "metadata": {},
     "output_type": "execute_result"
    }
   ],
   "source": [
    "# Sasa calc using VMD \n",
    "sasa_id2s = pd.read_csv(\"ID2S_new.txt\", sep=\" \", header=None, names=['res_label','res_no','sasa_label','sasa_ID2S'])\n",
    "sasa_id2s"
   ]
  },
  {
   "cell_type": "code",
   "execution_count": 7,
   "metadata": {},
   "outputs": [
    {
     "data": {
      "text/plain": [
       "RangeIndex(start=0, stop=507, step=1)"
      ]
     },
     "execution_count": 7,
     "metadata": {},
     "output_type": "execute_result"
    }
   ],
   "source": [
    "sasa_id2s.index"
   ]
  },
  {
   "cell_type": "code",
   "execution_count": 8,
   "metadata": {},
   "outputs": [
    {
     "data": {
      "text/html": [
       "<div>\n",
       "<style scoped>\n",
       "    .dataframe tbody tr th:only-of-type {\n",
       "        vertical-align: middle;\n",
       "    }\n",
       "\n",
       "    .dataframe tbody tr th {\n",
       "        vertical-align: top;\n",
       "    }\n",
       "\n",
       "    .dataframe thead th {\n",
       "        text-align: right;\n",
       "    }\n",
       "</style>\n",
       "<table border=\"1\" class=\"dataframe\">\n",
       "  <thead>\n",
       "    <tr style=\"text-align: right;\">\n",
       "      <th></th>\n",
       "      <th>res_label</th>\n",
       "      <th>res_no</th>\n",
       "      <th>sasa_label</th>\n",
       "      <th>sasa_ID2S</th>\n",
       "    </tr>\n",
       "  </thead>\n",
       "  <tbody>\n",
       "    <tr>\n",
       "      <th>0</th>\n",
       "      <td>residue:</td>\n",
       "      <td>34</td>\n",
       "      <td>sasa:</td>\n",
       "      <td>183.174088</td>\n",
       "    </tr>\n",
       "    <tr>\n",
       "      <th>1</th>\n",
       "      <td>residue:</td>\n",
       "      <td>35</td>\n",
       "      <td>sasa:</td>\n",
       "      <td>152.724426</td>\n",
       "    </tr>\n",
       "    <tr>\n",
       "      <th>2</th>\n",
       "      <td>residue:</td>\n",
       "      <td>36</td>\n",
       "      <td>sasa:</td>\n",
       "      <td>48.462769</td>\n",
       "    </tr>\n",
       "    <tr>\n",
       "      <th>3</th>\n",
       "      <td>residue:</td>\n",
       "      <td>37</td>\n",
       "      <td>sasa:</td>\n",
       "      <td>39.876366</td>\n",
       "    </tr>\n",
       "    <tr>\n",
       "      <th>4</th>\n",
       "      <td>residue:</td>\n",
       "      <td>38</td>\n",
       "      <td>sasa:</td>\n",
       "      <td>11.981773</td>\n",
       "    </tr>\n",
       "  </tbody>\n",
       "</table>\n",
       "</div>"
      ],
      "text/plain": [
       "  res_label  res_no sasa_label   sasa_ID2S\n",
       "0  residue:      34      sasa:  183.174088\n",
       "1  residue:      35      sasa:  152.724426\n",
       "2  residue:      36      sasa:   48.462769\n",
       "3  residue:      37      sasa:   39.876366\n",
       "4  residue:      38      sasa:   11.981773"
      ]
     },
     "execution_count": 8,
     "metadata": {},
     "output_type": "execute_result"
    }
   ],
   "source": [
    "org_ind = sasa_id2s.index\n",
    "ss_tot = sasa_id2s.sort_values('res_no')\n",
    "ss_tot.index = org_ind\n",
    "ss_tot.head()"
   ]
  },
  {
   "cell_type": "code",
   "execution_count": 9,
   "metadata": {},
   "outputs": [
    {
     "data": {
      "text/plain": [
       "134"
      ]
     },
     "execution_count": 9,
     "metadata": {},
     "output_type": "execute_result"
    }
   ],
   "source": [
    "ss_tot['res_no'][100]"
   ]
  },
  {
   "cell_type": "code",
   "execution_count": 10,
   "metadata": {},
   "outputs": [
    {
     "data": {
      "text/plain": [
       "0    <Residue THR, 34>\n",
       "1    <Residue ASP, 35>\n",
       "2    <Residue ALA, 36>\n",
       "3    <Residue LEU, 37>\n",
       "4    <Residue ASN, 38>\n",
       "dtype: object"
      ]
     },
     "execution_count": 10,
     "metadata": {},
     "output_type": "execute_result"
    }
   ],
   "source": [
    "# Load universe of the BSA/water simulation\n",
    "id2s_only = mda.Universe(\"ID2S.pdb\")\n",
    "\n",
    "# Load protein atoms, heavy atoms only \n",
    "id2s_prot = id2s_only.select_atoms(\"protein\")\n",
    "\n",
    "pr_res = list(id2s_prot.residues)\n",
    "ss_res = [str(row) for row in pr_res]\n",
    "id2s_resdat = pd.Series(data=ss_res)\n",
    "id2s_resdat.head()"
   ]
  },
  {
   "cell_type": "code",
   "execution_count": 11,
   "metadata": {},
   "outputs": [
    {
     "data": {
      "text/html": [
       "<div>\n",
       "<style scoped>\n",
       "    .dataframe tbody tr th:only-of-type {\n",
       "        vertical-align: middle;\n",
       "    }\n",
       "\n",
       "    .dataframe tbody tr th {\n",
       "        vertical-align: top;\n",
       "    }\n",
       "\n",
       "    .dataframe thead th {\n",
       "        text-align: right;\n",
       "    }\n",
       "</style>\n",
       "<table border=\"1\" class=\"dataframe\">\n",
       "  <thead>\n",
       "    <tr style=\"text-align: right;\">\n",
       "      <th></th>\n",
       "      <th>res_no</th>\n",
       "      <th>sasa_label</th>\n",
       "      <th>sasa_ID2S</th>\n",
       "    </tr>\n",
       "  </thead>\n",
       "  <tbody>\n",
       "    <tr>\n",
       "      <th>0</th>\n",
       "      <td>&lt;Residue THR, 34&gt;</td>\n",
       "      <td>sasa:</td>\n",
       "      <td>183.174088</td>\n",
       "    </tr>\n",
       "    <tr>\n",
       "      <th>1</th>\n",
       "      <td>&lt;Residue ASP, 35&gt;</td>\n",
       "      <td>sasa:</td>\n",
       "      <td>152.724426</td>\n",
       "    </tr>\n",
       "    <tr>\n",
       "      <th>2</th>\n",
       "      <td>&lt;Residue ALA, 36&gt;</td>\n",
       "      <td>sasa:</td>\n",
       "      <td>48.462769</td>\n",
       "    </tr>\n",
       "    <tr>\n",
       "      <th>3</th>\n",
       "      <td>&lt;Residue LEU, 37&gt;</td>\n",
       "      <td>sasa:</td>\n",
       "      <td>39.876366</td>\n",
       "    </tr>\n",
       "    <tr>\n",
       "      <th>4</th>\n",
       "      <td>&lt;Residue ASN, 38&gt;</td>\n",
       "      <td>sasa:</td>\n",
       "      <td>11.981773</td>\n",
       "    </tr>\n",
       "  </tbody>\n",
       "</table>\n",
       "</div>"
      ],
      "text/plain": [
       "              res_no sasa_label   sasa_ID2S\n",
       "0  <Residue THR, 34>      sasa:  183.174088\n",
       "1  <Residue ASP, 35>      sasa:  152.724426\n",
       "2  <Residue ALA, 36>      sasa:   48.462769\n",
       "3  <Residue LEU, 37>      sasa:   39.876366\n",
       "4  <Residue ASN, 38>      sasa:   11.981773"
      ]
     },
     "execution_count": 11,
     "metadata": {},
     "output_type": "execute_result"
    }
   ],
   "source": [
    "ss_tot['res_no'] = id2s_resdat\n",
    "ss_tot.drop('res_label', axis=1, inplace=True)\n",
    "ss_tot.head()"
   ]
  },
  {
   "cell_type": "code",
   "execution_count": 12,
   "metadata": {},
   "outputs": [],
   "source": [
    "a_a = [\"GLY\",\"ALA\",\"VAL\",\"LEU\",\"ILE\",\"MET\",\"PHE\",\"TRP\",\"PRO\",\"SER\",\"THR\",\"CYS\",\"TYR\",\"ASN\",\"GLN\",\"ASP\"\n",
    "               ,\"GLU\",\"LYS\",\"ARG\",\"HIS\"]"
   ]
  },
  {
   "cell_type": "code",
   "execution_count": 13,
   "metadata": {},
   "outputs": [
    {
     "data": {
      "text/plain": [
       "'<Residue GLY, 52>'"
      ]
     },
     "execution_count": 13,
     "metadata": {},
     "output_type": "execute_result"
    }
   ],
   "source": [
    "ss_tot[\"res_no\"][18]"
   ]
  },
  {
   "cell_type": "code",
   "execution_count": 14,
   "metadata": {},
   "outputs": [],
   "source": [
    "#From VMD, SASA calculation on each residue, surface exposed is area greater than 1 angstrom squared\n",
    "from re import search\n",
    "ssid2s_list = []\n",
    "indx_list = []\n",
    "\n",
    "for i in range(len(a_a)):\n",
    "    count = 0\n",
    "    for j in range(len(ss_tot['res_no'])):\n",
    "        sas = ss_tot[\"sasa_ID2S\"][j]\n",
    "        sid = str(ss_tot[\"res_no\"][j])\n",
    "        #print(sas)\n",
    "        #print(sid)\n",
    "        if (sid.find(a_a[i]) > 0) == True:\n",
    "            if sas > 1.0:\n",
    "                #print(sas)\n",
    "                #print(sid)\n",
    "                #print(j)\n",
    "                indx_list.append(j)\n",
    "                count += 1\n",
    "            #else :\n",
    "            #    print(sasa_id2s[\"sasa_ID2S\"][j])\n",
    "                #print('nope')\n",
    "    ssid2s_list.append(str(str(a_a[i])+\"  \"+str(count)))\n",
    "#ssid2s_list"
   ]
  },
  {
   "cell_type": "code",
   "execution_count": null,
   "metadata": {},
   "outputs": [],
   "source": [
    "#indx_list"
   ]
  },
  {
   "cell_type": "code",
   "execution_count": null,
   "metadata": {},
   "outputs": [],
   "source": [
    "#list(id2s_prot.residues[indx_list].atoms)"
   ]
  },
  {
   "cell_type": "code",
   "execution_count": null,
   "metadata": {},
   "outputs": [],
   "source": [
    "#hydrophobic_res = ['ALA', 'ILE', 'LEU', 'VAL', 'GLY', 'PRO','PHE', 'TRP','MET']\n",
    "#polar_res = ['ASN', 'CYS', 'GLN', 'SER', 'THR','TYR']\n",
    "#neg_res = ['ASP', 'GLU']\n",
    "#pos_res = ['ARG', 'HIS', 'LYS']\n",
    "# aromatic_res = ['PHE', 'TRP', 'TYR', 'HIS']\n",
    "#all_res = [pos_res, neg_res, polar_res, hydrophobic_res]\n",
    "\n",
    "# Put the AA count in a pandas dataframe \n",
    "dg , ji = AA_list_org(ssid2s_list)\n",
    "aa_count = pd.DataFrame(data=dg, index=None, columns=['Amino_acids'])\n",
    "new_lf = pd.Series(data=ji, index=None)\n",
    "#vmg, vmdj = AA_list_org(vmd_list)\n",
    "#n2lf = pd.Series(data=vmdj, index=None)\n",
    "aa_count['No_of_surf_res (SASA) ID2S'] = new_lf\n",
    "#aa_count['No_of_surf_res (VMD)_BSA'] = n2lf\n",
    "aa_count"
   ]
  },
  {
   "cell_type": "code",
   "execution_count": null,
   "metadata": {},
   "outputs": [],
   "source": [
    "totaa = aa_count['No_of_surf_res (SASA) ID2S'].sum()\n",
    "totaa"
   ]
  },
  {
   "cell_type": "code",
   "execution_count": null,
   "metadata": {},
   "outputs": [],
   "source": [
    "# Number of positively charged residues (MD analysis)\n",
    "aa_count['No_of_surf_res (SASA) ID2S'][0:3].sum()/totaa"
   ]
  },
  {
   "cell_type": "code",
   "execution_count": null,
   "metadata": {},
   "outputs": [],
   "source": [
    "# Number of negatively charged residues (MD Analysis)\n",
    "aa_count['No_of_surf_res (SASA) ID2S'][3:5].sum()/totaa"
   ]
  },
  {
   "cell_type": "code",
   "execution_count": null,
   "metadata": {},
   "outputs": [],
   "source": [
    "# Number of polar residues (MD Analysis)\n",
    "aa_count['No_of_surf_res (SASA) ID2S'][5:11].sum()/totaa"
   ]
  },
  {
   "cell_type": "code",
   "execution_count": null,
   "metadata": {},
   "outputs": [],
   "source": [
    "# Number of hydrophobic residues (MD Analysis)\n",
    "aa_count['No_of_surf_res (SASA) ID2S'][11:20].sum()/totaa"
   ]
  },
  {
   "cell_type": "code",
   "execution_count": null,
   "metadata": {},
   "outputs": [],
   "source": [
    "# aromatic_res = ['PHE', 'TRP', 'TYR', 'HIS']\n",
    "hf_bs = aa_count['No_of_surf_res (SASA) ID2S'][8].sum() \n",
    "hf_b = aa_count['No_of_surf_res (SASA) ID2S'][17:19].sum() \n",
    "hf_2vb = aa_count['No_of_surf_res (SASA) ID2S'][2].sum()\n",
    "(hf_bs +hf_b +hf_2vb)/totaa"
   ]
  },
  {
   "cell_type": "markdown",
   "metadata": {},
   "source": [
    "### Plotting "
   ]
  },
  {
   "cell_type": "code",
   "execution_count": null,
   "metadata": {},
   "outputs": [],
   "source": [
    "import matplotlib.patches as mpatches\n",
    "\n",
    "#circ1= mpatches.Patch(facecolor='None',edgecolor='black', hatch=r'\\\\',label='VMD')\n",
    "#circ2= mpatches.Patch(facecolor='None',edgecolor='black', hatch=r'////',label='VMD_sasa')\n",
    "#circ3= mpatches.Patch(facecolor='None', edgecolor='black',label='SASA')\n",
    "circ4= mpatches.Patch(facecolor='blue',label='Positively Charged')\n",
    "circ5= mpatches.Patch(facecolor='red',label='Negatively Charged')\n",
    "circ6= mpatches.Patch(facecolor='magenta',label='Polar')\n",
    "circ7= mpatches.Patch(facecolor='cyan',label='Hydrophobic')\n",
    "\n",
    "#plotting \n",
    "#Change order of residues before making the bar graph\n",
    "# (!) Positively charged\n",
    "# (2) Negatively charged\n",
    "# (3) Polar residues \n",
    "# (4) Hydrophobic residues \n",
    "x = np.arange(20)\n",
    "#width = 0.25\n",
    "#leg_1 = ['MD Analysis', 'VMD Calculation']\n",
    "leg = ['Positively Charged', 'Negatively Charged', 'Polar', 'Hydrophobic']\n",
    "plt.figure(figsize=(10,10))\n",
    "plt.bar(x[0:3], aa_count['No_of_surf_res (SASA) ID2S'][0:3], color='blue', edgecolor='black')\n",
    "\n",
    "plt.bar(x[3:5], aa_count['No_of_surf_res (SASA) ID2S'][3:5], color='red', edgecolor='black')\n",
    "\n",
    "plt.bar(x[5:11], aa_count['No_of_surf_res (SASA) ID2S'][5:11], color='magenta', edgecolor='black')\n",
    "\n",
    "plt.bar(x[11:20], aa_count['No_of_surf_res (SASA) ID2S'][11:20], color='cyan', edgecolor='black')\n",
    "\n",
    "plt.xticks(x,aa_count['Amino_acids'], fontsize=12)\n",
    "plt.title('Iduronate-2-sufatase Surface AAs', fontsize=17)\n",
    "legend1 = plt.legend(handles = [circ4, circ5, circ6, circ7], loc=0,fontsize=15, frameon=False)\n",
    "#plt.legend(handles = [circ1, circ2, circ3],loc=9,fontsize=12, frameon=False)\n",
    "plt.gca().add_artist(legend1)\n",
    "\n",
    "# need to check residue indexing in my code"
   ]
  },
  {
   "cell_type": "markdown",
   "metadata": {},
   "source": [
    "## Second order ID2S surface AA characterization "
   ]
  },
  {
   "cell_type": "code",
   "execution_count": null,
   "metadata": {},
   "outputs": [],
   "source": [
    "#pr_res"
   ]
  },
  {
   "cell_type": "code",
   "execution_count": 15,
   "metadata": {},
   "outputs": [],
   "source": [
    "# Select protein surface atoms \n",
    "surfatmsID2S = id2s_prot.residues[indx_list].atoms"
   ]
  },
  {
   "cell_type": "code",
   "execution_count": null,
   "metadata": {},
   "outputs": [],
   "source": [
    "len(list(surfatmsID2S.residues))"
   ]
  },
  {
   "cell_type": "code",
   "execution_count": null,
   "metadata": {},
   "outputs": [],
   "source": [
    "list(id2s_prot.select_atoms('resname ARG and resid 294'))"
   ]
  },
  {
   "cell_type": "code",
   "execution_count": null,
   "metadata": {},
   "outputs": [],
   "source": [
    "indx_list[0]"
   ]
  },
  {
   "cell_type": "code",
   "execution_count": null,
   "metadata": {},
   "outputs": [],
   "source": [
    "calpha = surfatmsID2S.residues[312].atoms"
   ]
  },
  {
   "cell_type": "code",
   "execution_count": null,
   "metadata": {},
   "outputs": [],
   "source": [
    "njk = mda.lib.NeighborSearch.AtomNeighborSearch(id2s_prot)\n",
    "len(list(njk.search(atoms=calpha.select_atoms(\"name CA\"), radius=, level='A')))"
   ]
  },
  {
   "cell_type": "code",
   "execution_count": null,
   "metadata": {},
   "outputs": [],
   "source": [
    "list(surfatmsID2S.residues[312].atoms)"
   ]
  },
  {
   "cell_type": "code",
   "execution_count": null,
   "metadata": {},
   "outputs": [],
   "source": [
    "len(surfatmsID2S.residues)"
   ]
  },
  {
   "cell_type": "markdown",
   "metadata": {},
   "source": [
    "#### Get solvent vector for each surface residue"
   ]
  },
  {
   "cell_type": "code",
   "execution_count": 16,
   "metadata": {},
   "outputs": [],
   "source": [
    "slvec_dict, nn_surf = solv_vec_protsurf(surfatmsID2S, id2s_prot, 10, 0, 4, 0.01)"
   ]
  },
  {
   "cell_type": "code",
   "execution_count": 17,
   "metadata": {},
   "outputs": [
    {
     "data": {
      "text/plain": [
       "401"
      ]
     },
     "execution_count": 17,
     "metadata": {},
     "output_type": "execute_result"
    }
   ],
   "source": [
    "len(nn_surf)"
   ]
  },
  {
   "cell_type": "code",
   "execution_count": 18,
   "metadata": {},
   "outputs": [
    {
     "data": {
      "text/plain": [
       "10"
      ]
     },
     "execution_count": 18,
     "metadata": {},
     "output_type": "execute_result"
    }
   ],
   "source": [
    "nn_surf[0]"
   ]
  },
  {
   "cell_type": "code",
   "execution_count": 19,
   "metadata": {},
   "outputs": [
    {
     "name": "stdout",
     "output_type": "stream",
     "text": [
      "355\n",
      "44\n",
      "2\n"
     ]
    }
   ],
   "source": [
    "c1 = 0\n",
    "c2 = 0 \n",
    "c3 = 0\n",
    "\n",
    "for i in range(len(nn_surf)):\n",
    "    if nn_surf[i] == 10:\n",
    "        c1 += 1\n",
    "    elif nn_surf[i] == 11:\n",
    "        c2 += 1 \n",
    "    elif nn_surf[i] == 12:\n",
    "        c3 += 1\n",
    "        \n",
    "print(c1)\n",
    "print(c2)\n",
    "print(c3)"
   ]
  },
  {
   "cell_type": "code",
   "execution_count": 20,
   "metadata": {},
   "outputs": [
    {
     "data": {
      "text/plain": [
       "([<matplotlib.axis.XTick at 0x13b1ff128>,\n",
       "  <matplotlib.axis.XTick at 0x13b1ffd30>,\n",
       "  <matplotlib.axis.XTick at 0x13b201dd8>],\n",
       " [Text(0, 0, '10'), Text(1, 0, '11'), Text(2, 0, '12')])"
      ]
     },
     "execution_count": 20,
     "metadata": {},
     "output_type": "execute_result"
    },
    {
     "data": {
      "image/png": "[encoded data removed]",
      "text/plain": [
       "<Figure size 432x288 with 1 Axes>"
      ]
     },
     "metadata": {
      "needs_background": "light"
     },
     "output_type": "display_data"
    }
   ],
   "source": [
    "xr = np.arange(3)\n",
    "cn_nn = np.array([c1,c2,c3])\n",
    "plt.bar(xr, cn_nn)\n",
    "plt.xticks(xr,['10','11','12'], fontsize=12)"
   ]
  },
  {
   "cell_type": "markdown",
   "metadata": {},
   "source": [
    "#### Get surface patches"
   ]
  },
  {
   "cell_type": "code",
   "execution_count": 21,
   "metadata": {},
   "outputs": [],
   "source": [
    "def psurf_patches(prot_surf_atoms, solv_vects_res, nnb, angle_cut, r_1, r_2, rd_s):\n",
    "    \n",
    "    # Initialize dictionary that will store residues and angles for each surface residue\n",
    "    sfp_tot = {}\n",
    "    \n",
    "    # Initialize numpy array of even spaced radius values in Angstroms\n",
    "    rs = np.arange(r_1, r_2, rd_s)\n",
    "    \n",
    "    # Get number of surface residues\n",
    "    no_srfres = len(list(prot_surf_atoms.residues))\n",
    "    \n",
    "    nn_ps = mda.lib.NeighborSearch.AtomNeighborSearch(prot_surf_atoms)\n",
    "    \n",
    "    resnnbh = []\n",
    "    \n",
    "    for i in range(no_srfres):\n",
    "        \n",
    "        #nn_ps = mda.lib.NeighborSearch.AtomNeighborSearch(prot_surf_atoms)\n",
    "        \n",
    "        rindx = 0\n",
    "        \n",
    "        rs_atms = prot_surf_atoms.residues[i].atoms\n",
    "        \n",
    "        #print(i)\n",
    "        #print(rs_atms)\n",
    "        \n",
    "        for j in range(len(rs)):\n",
    "            \n",
    "            sfreslis = list(nn_ps.search(atoms=rs_atms, radius=rs[j], level='R'))\n",
    "            #print(len(sfreslis))\n",
    "            \n",
    "            # I need to add elif 11 neighbors because based on the cutoff, some surf res will have \n",
    "            # 9,11, or 12 neighbors but not 10 neighbors, Can't think of a better fix   \n",
    "            \n",
    "            # If nn = 10 (using XOR bitwise operator)\n",
    "            #if nnb ^ len(sfreslis) == 0:\n",
    "            if nnb <= len(sfreslis) <= nnb+2:\n",
    "                rindx = j\n",
    "                resnnbh.append(len(sfreslis))\n",
    "                break\n",
    "            # if nn = 11    \n",
    "            #elif nnb ^ len(sfreslis) == 1:\n",
    "            #    rindx = j\n",
    "            #    resnnbh.append(len(sfreslis))\n",
    "            #    break\n",
    "            # if nn = 12\n",
    "            #elif nnb ^ len(sfreslis) == 6:\n",
    "            #    rindx = j\n",
    "            #    resnnbh.append(len(sfreslis))\n",
    "            #    break\n",
    "            \n",
    "        # Error check: Making sure that a radial value was stored that corresponds to desired nearest neighbors\n",
    "        if rindx == 0:    \n",
    "            print(rindx)\n",
    "            print(len(sfreslis))\n",
    "            print(rs_atms)\n",
    "            print(i)\n",
    "            \n",
    "        ls_sfrs = nn_ps.search(atoms=rs_atms, radius=rs[rindx], level='R')\n",
    "        \n",
    "        # Initialize dictionary that will store angles and residues \n",
    "        sf_patres = {}\n",
    "        \n",
    "        sf_notinc = {}\n",
    "        \n",
    "        for k in range(len(ls_sfrs)):\n",
    "            \n",
    "            if str(prot_surf_atoms.residues[i]) == str(ls_sfrs[k]):\n",
    "            \n",
    "                pass\n",
    "            \n",
    "            elif str(prot_surf_atoms.residues[i]) != str(ls_sfrs[k]):\n",
    "                \n",
    "                vt_one = solv_vects_res[str(ls_sfrs[k])]\n",
    "                \n",
    "                vt_two = solv_vects_res[str(prot_surf_atoms.residues[i])].reshape(3,1)\n",
    "                \n",
    "                angl_rs = math.degrees(math.acos(np.dot(vt_one,vt_two)))\n",
    "                \n",
    "                if angl_rs <= angle_cut:\n",
    "                    \n",
    "                    sf_patres[str(ls_sfrs[k])] = angl_rs\n",
    "                    \n",
    "                elif angl_rs >= angle_cut:\n",
    "                    \n",
    "                    sf_notinc[str(ls_sfrs[k])] = angl_rs\n",
    "                    \n",
    "                    #print(str(ls_sfrs[k]))\n",
    "                    #print(angl_rs)\n",
    "                    \n",
    "        sfp_tot[str(prot_surf_atoms.residues[i])] = [sf_patres, sf_notinc]\n",
    "    \n",
    "    return sfp_tot, resnnbh\n",
    "    "
   ]
  },
  {
   "cell_type": "code",
   "execution_count": null,
   "metadata": {},
   "outputs": [],
   "source": []
  },
  {
   "cell_type": "code",
   "execution_count": 22,
   "metadata": {},
   "outputs": [],
   "source": [
    "sfr_id2s, neig_1d2s = psurf_patches(surfatmsID2S, slvec_dict, 10, 110, 1, 10, 0.01)"
   ]
  },
  {
   "cell_type": "code",
   "execution_count": 23,
   "metadata": {},
   "outputs": [
    {
     "data": {
      "text/plain": [
       "401"
      ]
     },
     "execution_count": 23,
     "metadata": {},
     "output_type": "execute_result"
    }
   ],
   "source": [
    "len(neig_1d2s)"
   ]
  },
  {
   "cell_type": "code",
   "execution_count": 24,
   "metadata": {},
   "outputs": [
    {
     "name": "stdout",
     "output_type": "stream",
     "text": [
      "398\n",
      "3\n",
      "0\n"
     ]
    }
   ],
   "source": [
    "# number of nearset neighbors used for surface patch calc for each residue\n",
    "c1_r = 0\n",
    "c2_r = 0 \n",
    "c3_r = 0\n",
    "\n",
    "for i in range(len(neig_1d2s)):\n",
    "    if neig_1d2s[i] == 10:\n",
    "        c1_r += 1\n",
    "    elif neig_1d2s[i] == 11:\n",
    "        c2_r += 1 \n",
    "    elif neig_1d2s[i] == 12:\n",
    "        c3_r += 1\n",
    "        \n",
    "print(c1_r)\n",
    "print(c2_r)\n",
    "print(c3_r)"
   ]
  },
  {
   "cell_type": "code",
   "execution_count": 25,
   "metadata": {},
   "outputs": [
    {
     "data": {
      "text/plain": [
       "([<matplotlib.axis.XTick at 0x13b1a6128>,\n",
       "  <matplotlib.axis.XTick at 0x13b1a6b70>,\n",
       "  <matplotlib.axis.XTick at 0x13b1b3390>],\n",
       " [Text(0, 0, '10'), Text(1, 0, '11'), Text(2, 0, '12')])"
      ]
     },
     "execution_count": 25,
     "metadata": {},
     "output_type": "execute_result"
    },
    {
     "data": {
      "image/png": "[encoded data removed]",
      "text/plain": [
       "<Figure size 432x288 with 1 Axes>"
      ]
     },
     "metadata": {
      "needs_background": "light"
     },
     "output_type": "display_data"
    }
   ],
   "source": [
    "xr = np.arange(3)\n",
    "cn_nnrr = np.array([c1_r,c2_r,c3_r])\n",
    "plt.bar(xr, cn_nnrr)\n",
    "plt.xticks(xr,['10','11','12'], fontsize=12)"
   ]
  },
  {
   "cell_type": "code",
   "execution_count": null,
   "metadata": {},
   "outputs": [],
   "source": [
    "import json\n",
    "\n",
    "with open('SP_ID2S.json', 'w') as fp:\n",
    "    json.dump(sfr_id2s, fp, sort_keys=True, indent=4)"
   ]
  },
  {
   "cell_type": "code",
   "execution_count": null,
   "metadata": {},
   "outputs": [],
   "source": [
    "with open('SP_ID2S.json', 'r') as fp:\n",
    "    sfr_id2s_t1 = json.load(fp)"
   ]
  },
  {
   "cell_type": "code",
   "execution_count": null,
   "metadata": {},
   "outputs": [],
   "source": [
    "sfp_tot['<Residue THR, 34>']['<Residue ASP, 35>']"
   ]
  },
  {
   "cell_type": "markdown",
   "metadata": {},
   "source": [
    "### Testing"
   ]
  },
  {
   "cell_type": "code",
   "execution_count": null,
   "metadata": {},
   "outputs": [],
   "source": [
    "# right orientation of solvent vector(use angle of CA and N GLY 52, it should be 38 degrees)\n",
    "solvec = sglyCA.positions - nn10_glyCa.center_of_mass()\n",
    "#solvec = nn10_glyCa.center_of_mass() - sglyCA.positions\n",
    "solvec"
   ]
  },
  {
   "cell_type": "code",
   "execution_count": null,
   "metadata": {},
   "outputs": [],
   "source": [
    "nn10_glyCa[0].position"
   ]
  },
  {
   "cell_type": "code",
   "execution_count": null,
   "metadata": {},
   "outputs": [],
   "source": [
    "#import math\n",
    "#fst_NN = nn10_glyCa.center_of_mass() - nn10_glyCa[2].position\n",
    "fst_NN = nn10_glyCa[2].position - nn10_glyCa.center_of_mass()\n",
    "fst_NN"
   ]
  },
  {
   "cell_type": "code",
   "execution_count": null,
   "metadata": {},
   "outputs": [],
   "source": [
    "#import math \n",
    "slvnorm = solvec/np.linalg.norm(solvec)\n",
    "ffnorm = fst_NN/np.linalg.norm(fst_NN)\n",
    "#math.degrees(math.acos(np.dot(solvec,fst_NN)))\n",
    "math.degrees(math.acos(np.dot(slvnorm,ffnorm)))"
   ]
  },
  {
   "cell_type": "code",
   "execution_count": null,
   "metadata": {},
   "outputs": [],
   "source": [
    "np.dot(solvec,fst_NN)"
   ]
  },
  {
   "cell_type": "code",
   "execution_count": null,
   "metadata": {},
   "outputs": [],
   "source": [
    "angl_gly52 = []\n",
    "for i in range(10):\n",
    "    print(i)\n",
    "    fst_NN = nn10_glyCa[i].position - nn10_glyCa.center_of_mass()\n",
    "    ffnorm = fst_NN/np.linalg.norm(fst_NN)\n",
    "    angl_gly52.append(math.degrees(math.acos(np.dot(slvnorm,ffnorm))))\n",
    "    #print(i)\n",
    "angl_gly52"
   ]
  }
 ],
 "metadata": {
  "kernelspec": {
   "display_name": "homeV2_env",
   "language": "python",
   "name": "homev2_env"
  },
  "language_info": {
   "codemirror_mode": {
    "name": "ipython",
    "version": 3
   },
   "file_extension": ".py",
   "mimetype": "text/x-python",
   "name": "python",
   "nbconvert_exporter": "python",
   "pygments_lexer": "ipython3",
   "version": "3.9.7"
  }
 },
 "nbformat": 4,
 "nbformat_minor": 4
}
